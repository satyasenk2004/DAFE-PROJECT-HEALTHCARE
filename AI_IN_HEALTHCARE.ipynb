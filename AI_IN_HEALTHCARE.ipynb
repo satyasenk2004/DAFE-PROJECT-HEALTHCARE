{
  "nbformat": 4,
  "nbformat_minor": 0,
  "metadata": {
    "colab": {
      "provenance": []
    },
    "kernelspec": {
      "name": "python3",
      "display_name": "Python 3"
    },
    "language_info": {
      "name": "python"
    }
  },
  "cells": [
    {
      "cell_type": "code",
      "execution_count": 1,
      "metadata": {
        "id": "uG4LZxTiRPAj"
      },
      "outputs": [],
      "source": [
        "import numpy as np\n",
        "import pandas as pd\n",
        "import os\n",
        "for dirname, _, filenames in os.walk('/kaggle/input'):\n",
        "    for filename in filenames:\n",
        "        print(os.path.join(dirname, filename))"
      ]
    },
    {
      "cell_type": "code",
      "source": [
        "import numpy as np\n",
        "import pandas as pd\n",
        "import matplotlib.pyplot as plt\n",
        "import seaborn as sns\n",
        "plt.rcParams['figure.figsize']=[15,6]\n",
        "import warnings\n",
        "warnings.filterwarnings(\"ignore\")"
      ],
      "metadata": {
        "id": "U4BIfyL1RcVE"
      },
      "execution_count": 2,
      "outputs": []
    },
    {
      "cell_type": "code",
      "source": [
        "df = pd.read_csv('/Disease_symptom_and_patient_profile_dataset.csv')\n",
        "df.head()"
      ],
      "metadata": {
        "id": "4dtkyUkGRjE_"
      },
      "execution_count": null,
      "outputs": []
    },
    {
      "cell_type": "code",
      "source": [
        "df.shape"
      ],
      "metadata": {
        "colab": {
          "base_uri": "https://localhost:8080/"
        },
        "id": "UIWNM-y0R7nA",
        "outputId": "131aa0e1-074a-4fa8-a8f0-1664c19767e4"
      },
      "execution_count": 7,
      "outputs": [
        {
          "output_type": "execute_result",
          "data": {
            "text/plain": [
              "(349, 10)"
            ]
          },
          "metadata": {},
          "execution_count": 7
        }
      ]
    },
    {
      "cell_type": "code",
      "source": [
        "df.info()"
      ],
      "metadata": {
        "id": "Zd5DfVYSR-Fm"
      },
      "execution_count": null,
      "outputs": []
    },
    {
      "cell_type": "code",
      "source": [
        "df.columns"
      ],
      "metadata": {
        "id": "glWDmWM_SBkf"
      },
      "execution_count": null,
      "outputs": []
    },
    {
      "cell_type": "code",
      "source": [
        "r=3\n",
        "c=5\n",
        "it=1\n",
        "for i in df.drop('Disease',axis=1).columns:\n",
        "    plt.subplot(r,c,it)\n",
        "    if df[i].dtype=='object':\n",
        "        sns.countplot(y=df[i])\n",
        "    else:\n",
        "        sns.kdeplot(df[i])\n",
        "        plt.grid()\n",
        "    it+=1\n",
        "plt.tight_layout()\n",
        "plt.show()"
      ],
      "metadata": {
        "id": "zShIljf7SCmr"
      },
      "execution_count": null,
      "outputs": []
    },
    {
      "cell_type": "code",
      "source": [
        "for i in ['Fever', 'Cough', 'Fatigue', 'Difficulty Breathing']:\n",
        "    df[i] = df[i].replace({'Yes':1,'No':0})"
      ],
      "metadata": {
        "id": "Nan4W1TfSIcA"
      },
      "execution_count": 11,
      "outputs": []
    },
    {
      "cell_type": "code",
      "source": [
        "for i in ['Blood Pressure', 'Cholesterol Level']:\n",
        "    df[i] = df[i].replace({'Low':1,'Normal':2,'High':3})"
      ],
      "metadata": {
        "id": "1PwKhTlCSM2E"
      },
      "execution_count": 12,
      "outputs": []
    },
    {
      "cell_type": "code",
      "source": [
        "df['Outcome Variable'] = df['Outcome Variable'].replace({'Positive':1,'Negative':0})\n",
        "df['Gender'] = df['Gender'].replace({'Male':1,'Female':0})"
      ],
      "metadata": {
        "id": "hB08CkdzSPmV"
      },
      "execution_count": 13,
      "outputs": []
    },
    {
      "cell_type": "code",
      "source": [
        "df.head()"
      ],
      "metadata": {
        "id": "7uiz9o4KSSQI"
      },
      "execution_count": null,
      "outputs": []
    },
    {
      "cell_type": "code",
      "source": [
        "from sklearn.preprocessing import MinMaxScaler"
      ],
      "metadata": {
        "id": "kthdNbcqSWLm"
      },
      "execution_count": 15,
      "outputs": []
    },
    {
      "cell_type": "code",
      "source": [
        "mmax = MinMaxScaler()"
      ],
      "metadata": {
        "id": "rJ5MdRXySWRe"
      },
      "execution_count": 16,
      "outputs": []
    },
    {
      "cell_type": "code",
      "source": [
        "df[['Age']] = mmax.fit_transform(df[['Age']])"
      ],
      "metadata": {
        "id": "Yy8OA3NOSawo"
      },
      "execution_count": 17,
      "outputs": []
    },
    {
      "cell_type": "code",
      "source": [
        "df.head()"
      ],
      "metadata": {
        "id": "KAK1xy0rSct4"
      },
      "execution_count": null,
      "outputs": []
    },
    {
      "cell_type": "code",
      "source": [
        "y = df['Outcome Variable']\n",
        "x = df[['Fever', 'Cough', 'Fatigue', 'Difficulty Breathing', 'Age','Gender', 'Blood Pressure', 'Cholesterol Level']]"
      ],
      "metadata": {
        "id": "zeSnd_LzSfUN"
      },
      "execution_count": 19,
      "outputs": []
    },
    {
      "cell_type": "code",
      "source": [
        "import statsmodels.api as sm"
      ],
      "metadata": {
        "id": "CFBaPSRAShYS"
      },
      "execution_count": 20,
      "outputs": []
    },
    {
      "cell_type": "code",
      "source": [
        "xc = sm.add_constant(x)\n",
        "model = sm.Logit(y,xc).fit()\n",
        "print(model.summary())"
      ],
      "metadata": {
        "id": "xnhprSX-Shn8"
      },
      "execution_count": null,
      "outputs": []
    },
    {
      "cell_type": "code",
      "source": [
        "from sklearn.model_selection import train_test_split"
      ],
      "metadata": {
        "id": "ULcCZdj4SkWJ"
      },
      "execution_count": 22,
      "outputs": []
    },
    {
      "cell_type": "code",
      "source": [
        "xtrain,xtest,ytrain,ytest = train_test_split(x,y,test_size=0.30,random_state=42)"
      ],
      "metadata": {
        "id": "yxoMX9N1SkZh"
      },
      "execution_count": 23,
      "outputs": []
    },
    {
      "cell_type": "code",
      "source": [
        "from sklearn.linear_model import LogisticRegression\n",
        "from sklearn.tree import DecisionTreeClassifier\n",
        "from sklearn.ensemble import RandomForestClassifier\n",
        "from sklearn.neighbors import KNeighborsClassifier\n",
        "from sklearn.naive_bayes import GaussianNB"
      ],
      "metadata": {
        "id": "bC-fN3e3SrMR"
      },
      "execution_count": 24,
      "outputs": []
    },
    {
      "cell_type": "code",
      "source": [
        "lr = LogisticRegression()\n",
        "dt=DecisionTreeClassifier()\n",
        "rf=RandomForestClassifier()\n",
        "knn=KNeighborsClassifier()\n",
        "gnb=GaussianNB()"
      ],
      "metadata": {
        "id": "3olYz-VMStbp"
      },
      "execution_count": 25,
      "outputs": []
    },
    {
      "cell_type": "code",
      "source": [
        "from sklearn.metrics import accuracy_score,precision_score,recall_score,f1_score,roc_auc_score,roc_curve"
      ],
      "metadata": {
        "id": "sdBN2VhnSvgc"
      },
      "execution_count": 26,
      "outputs": []
    },
    {
      "cell_type": "code",
      "source": [
        "def predictor(model_name):\n",
        "    print(\"For the {}\".format(model_name))\n",
        "    model_name.fit(xtrain,ytrain)\n",
        "    y_pred_train = model_name.predict(xtrain)\n",
        "    y_pred_test = model_name.predict(xtest)\n",
        "    print(\"The TRAIN accuracy is\",accuracy_score(ytrain,y_pred_train))\n",
        "    plt.figure(figsize=(9,4))\n",
        "    fpr,tpr,thresholds = roc_curve(ytrain,model_name.predict_proba(xtrain)[:,1])\n",
        "    plt.plot(fpr,tpr)\n",
        "    plt.plot([0,1],[0,1])\n",
        "    plt.grid()\n",
        "    plt.show()\n",
        "    print(\"--\"*50)\n",
        "    print(\"The TEST accuracy is\",accuracy_score(ytest,y_pred_test))\n",
        "    plt.figure(figsize=(9,4))\n",
        "    fpr,tpr,thresholds = roc_curve(ytest,model_name.predict_proba(xtest)[:,1])\n",
        "    plt.plot(fpr,tpr)\n",
        "    plt.plot([0,1],[0,1])\n",
        "    plt.grid()\n",
        "    plt.show()"
      ],
      "metadata": {
        "id": "qk-qipc9SymG"
      },
      "execution_count": 28,
      "outputs": []
    },
    {
      "cell_type": "code",
      "source": [
        "predictor(lr)"
      ],
      "metadata": {
        "id": "KvDRe07kS91y"
      },
      "execution_count": null,
      "outputs": []
    },
    {
      "cell_type": "code",
      "source": [
        "predictor(dt)"
      ],
      "metadata": {
        "id": "nVrz6GkxTA4D"
      },
      "execution_count": null,
      "outputs": []
    },
    {
      "cell_type": "code",
      "source": [
        "predictor(rf)"
      ],
      "metadata": {
        "id": "2cW0iqCkTD48"
      },
      "execution_count": null,
      "outputs": []
    },
    {
      "cell_type": "code",
      "source": [
        "predictor(knn)"
      ],
      "metadata": {
        "id": "4uUxnMHsTGiD"
      },
      "execution_count": null,
      "outputs": []
    },
    {
      "cell_type": "code",
      "source": [
        "predictor(gnb)"
      ],
      "metadata": {
        "id": "DOy4HehETJvy"
      },
      "execution_count": null,
      "outputs": []
    },
    {
      "cell_type": "code",
      "source": [
        "plt.barh(xtrain.columns,rf.fit(xtrain,ytrain).feature_importances_)\n",
        "plt.show()"
      ],
      "metadata": {
        "id": "AbkxrV2rTMFh"
      },
      "execution_count": null,
      "outputs": []
    }
  ]
}