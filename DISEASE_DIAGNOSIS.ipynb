{
  "cells": [
    {
      "cell_type": "code",
      "source": [
        "import numpy as np\n",
        "import pandas as pd\n",
        "import os\n",
        "for dirname, _, filenames in os.walk('/kaggle/input'):\n",
        "    for filename in filenames:\n",
        "        print(os.path.join(dirname, filename))"
      ],
      "metadata": {
        "id": "TpRX5PdKRr1p"
      },
      "execution_count": null,
      "outputs": []
    },
    {
      "cell_type": "code",
      "source": [
        "df = pd.read_csv('/Disease_symptom_and_patient_profile_dataset.csv')\n",
        "df"
      ],
      "metadata": {
        "id": "Rr2Ct-2iR1hG"
      },
      "execution_count": null,
      "outputs": []
    },
    {
      "cell_type": "code",
      "source": [
        "df.info()"
      ],
      "metadata": {
        "id": "rxT0rFFzSMQB"
      },
      "execution_count": null,
      "outputs": []
    },
    {
      "cell_type": "code",
      "source": [
        "for i in df.columns:\n",
        "    values = df[i].value_counts()\n",
        "    print(values)"
      ],
      "metadata": {
        "id": "Ve6RmP4lSPkN"
      },
      "execution_count": null,
      "outputs": []
    },
    {
      "cell_type": "code",
      "source": [
        "import matplotlib.pyplot as plt\n",
        "import seaborn as sns\n",
        "for i in df.columns:\n",
        "    plt.figure(figsize=(20,8))\n",
        "    plt.xticks(rotation=90)\n",
        "    plt.tight_layout()\n",
        "    sns.histplot(df[i])\n",
        "    plt.show()"
      ],
      "metadata": {
        "id": "nhpLmPaSSVMh"
      },
      "execution_count": null,
      "outputs": []
    },
    {
      "cell_type": "code",
      "source": [
        "X_train = df.drop(columns=['Outcome Variable'],axis=1)\n",
        "Y_train= df['Outcome Variable']\n",
        "X_train.shape , Y_train.shape"
      ],
      "metadata": {
        "id": "vdk_jyAwSfc1"
      },
      "execution_count": null,
      "outputs": []
    },
    {
      "cell_type": "code",
      "source": [
        "X_train"
      ],
      "metadata": {
        "id": "KUgrja1vSjB8"
      },
      "execution_count": null,
      "outputs": []
    },
    {
      "cell_type": "code",
      "source": [
        "Y_train"
      ],
      "metadata": {
        "id": "mib36aPxSniL"
      },
      "execution_count": null,
      "outputs": []
    },
    {
      "cell_type": "code",
      "source": [
        "from sklearn.preprocessing import LabelEncoder\n",
        "encoder = LabelEncoder()\n",
        "columns_to_encode = ['Fever', 'Cough', 'Fatigue', 'Difficulty Breathing', 'Gender', 'Blood Pressure', 'Cholesterol Level', 'Disease']\n",
        "# Encode all the columns except 'Age'\n",
        "for column in columns_to_encode:\n",
        "    if column != 'Age':\n",
        "        X_train[column] = encoder.fit_transform(X_train[column])"
      ],
      "metadata": {
        "id": "TvfBuIIyS_Hx"
      },
      "execution_count": null,
      "outputs": []
    },
    {
      "cell_type": "code",
      "source": [
        "X_train"
      ],
      "metadata": {
        "id": "XtEtLAC5TKwp"
      },
      "execution_count": null,
      "outputs": []
    },
    {
      "cell_type": "code",
      "source": [
        "encoder = LabelEncoder ()\n",
        "Y_train = encoder.fit_transform(Y_train)\n",
        "Y_train"
      ],
      "metadata": {
        "id": "fYzjyF50TOQH"
      },
      "execution_count": null,
      "outputs": []
    },
    {
      "cell_type": "code",
      "source": [
        "sns.heatmap(X_train.corr())"
      ],
      "metadata": {
        "id": "DdPEq_CBTUsp"
      },
      "execution_count": null,
      "outputs": []
    },
    {
      "cell_type": "code",
      "source": [
        "# Calculate the correlation matrix\n",
        "corr_matrix = X_train.corr()\n",
        "# Set the figure size\n",
        "plt.figure(figsize=(10, 8))\n",
        "# Customize the heatmap colors and display the numbers\n",
        "sns.heatmap(corr_matrix, annot=True, fmt=\".2f\", cmap=\"coolwarm\")\n",
        "# Show the plot\n",
        "plt.show()"
      ],
      "metadata": {
        "id": "lGKC6ronTYkS"
      },
      "execution_count": null,
      "outputs": []
    },
    {
      "cell_type": "code",
      "source": [
        "from sklearn.model_selection import train_test_split\n",
        "X_train, X_test, Y_train, Y_test = train_test_split(X_train, Y_train, test_size=0.2, random_state=42)"
      ],
      "metadata": {
        "id": "svKVRvYDTo2a"
      },
      "execution_count": null,
      "outputs": []
    },
    {
      "cell_type": "code",
      "source": [
        "X_train.corr()"
      ],
      "metadata": {
        "id": "gw6fQf1tTwLo"
      },
      "execution_count": null,
      "outputs": []
    },
    {
      "cell_type": "code",
      "source": [
        "X_test"
      ],
      "metadata": {
        "id": "sH-lBW1aT0Zq"
      },
      "execution_count": null,
      "outputs": []
    },
    {
      "cell_type": "code",
      "source": [
        "X_train['Age'].max()\n",
        "X_train['Age'].min()"
      ],
      "metadata": {
        "id": "34Bn8I_5T3Or"
      },
      "execution_count": null,
      "outputs": []
    },
    {
      "cell_type": "code",
      "source": [
        "values = pd.DataFrame(X_train['Age'].value_counts())\n",
        "values"
      ],
      "metadata": {
        "id": "BqgIQLOQT6BU"
      },
      "execution_count": null,
      "outputs": []
    },
    {
      "cell_type": "code",
      "source": [
        "# Create a DataFrame with the age values\n",
        "df_age = pd.DataFrame({'Age': [45,32,50,35,55,40,60,30,65,42,38,70,29,25,31,28,80,90,48,52,85,43,19,57,32,39]})\n",
        "# Define the age group intervals and labels\n",
        "age_intervals = [(10,20),(20, 30), (35, 55), (60, 70), (80, 90)]\n",
        "age_labels = ['10-20','20-30', '35-55', '60-70', '80-90']\n",
        "# Create a new column 'Age Group' based on the age groups\n",
        "df_age['Age Group'] = pd.cut(df_age['Age'], bins=[interval[0]-1 for interval in age_intervals] + [age_intervals[-1][1]],labels=age_labels, right=False)\n",
        "# Print the value counts of age groups\n",
        "print(df_age['Age Group'].value_counts())"
      ],
      "metadata": {
        "id": "LOUL4NZET9zf"
      },
      "execution_count": null,
      "outputs": []
    },
    {
      "cell_type": "code",
      "source": [
        "X_train['Age Group'] = pd.cut(X_train['Age'], bins=[interval[0]-1 for interval in age_intervals] + [age_intervals[-1][1]],\n",
        "                             labels=age_labels, right=False)\n",
        "X_test['Age Group'] = pd.cut(X_test['Age'], bins=[interval[0]-1 for interval in age_intervals] + [age_intervals[-1][1]],\n",
        "                             labels=age_labels, right=False)"
      ],
      "metadata": {
        "id": "zVcOPy53UEbM"
      },
      "execution_count": null,
      "outputs": []
    },
    {
      "cell_type": "code",
      "source": [
        "X_train.drop(columns=['Age'],inplace=True)\n",
        "X_test.drop(columns=['Age'],inplace=True)"
      ],
      "metadata": {
        "id": "mDHokosvUJVM"
      },
      "execution_count": null,
      "outputs": []
    },
    {
      "cell_type": "code",
      "source": [
        "X_train"
      ],
      "metadata": {
        "id": "7ONlLaLTULwF"
      },
      "execution_count": null,
      "outputs": []
    },
    {
      "cell_type": "code",
      "source": [
        "X_train['Age Group'] = X_train['Age Group'].replace({'35-55': '0', '20-30': '1', '60-70': '2', '80-90': '3', '10-20': '4'})\n",
        "X_test['Age Group'] = X_test['Age Group'].replace({'35-55': '0', '20-30': '1', '60-70': '2', '80-90': '3', '10-20': '4'})"
      ],
      "metadata": {
        "id": "zchkmmE7UPgv"
      },
      "execution_count": null,
      "outputs": []
    },
    {
      "cell_type": "code",
      "source": [
        "X_train['Age Group'].fillna(X_train['Age Group'].mode()[0], inplace=True)\n",
        "X_test['Age Group'].fillna(X_test['Age Group'].mode()[0], inplace=True)"
      ],
      "metadata": {
        "id": "3ettSzy6USx3"
      },
      "execution_count": null,
      "outputs": []
    },
    {
      "cell_type": "code",
      "source": [
        "print(X_train['Disease'].values)"
      ],
      "metadata": {
        "id": "-e7fNNd-UVoG"
      },
      "execution_count": null,
      "outputs": []
    },
    {
      "cell_type": "code",
      "source": [
        "from sklearn.preprocessing import StandardScaler\n",
        "scaler = StandardScaler()\n",
        "X_train['Disease'] = scaler.fit_transform(X_train[['Disease']])\n",
        "X_test['Disease'] = scaler.fit_transform(X_test[['Disease']])"
      ],
      "metadata": {
        "id": "diuyLYSkUY4M"
      },
      "execution_count": null,
      "outputs": []
    },
    {
      "cell_type": "code",
      "source": [
        "X_test"
      ],
      "metadata": {
        "id": "gkqpwrZTUdYu"
      },
      "execution_count": null,
      "outputs": []
    },
    {
      "cell_type": "code",
      "source": [
        "X_train.info()"
      ],
      "metadata": {
        "id": "M8MkWmY2Ugd0"
      },
      "execution_count": null,
      "outputs": []
    },
    {
      "cell_type": "code",
      "source": [
        "values = pd.DataFrame(X_train['Disease'].value_counts())\n",
        "values"
      ],
      "metadata": {
        "id": "LjWlCzPTUj40"
      },
      "execution_count": null,
      "outputs": []
    },
    {
      "cell_type": "code",
      "source": [
        "X_train['Disease'].max()"
      ],
      "metadata": {
        "id": "mVFF8wb-UoG3"
      },
      "execution_count": null,
      "outputs": []
    },
    {
      "cell_type": "code",
      "source": [
        "X_train['Disease'].min()"
      ],
      "metadata": {
        "id": "sceG0cfwUvsO"
      },
      "execution_count": null,
      "outputs": []
    },
    {
      "cell_type": "code",
      "source": [
        "X_train['Disease'].round"
      ],
      "metadata": {
        "id": "AxJIIZYVUw4-"
      },
      "execution_count": null,
      "outputs": []
    },
    {
      "cell_type": "code",
      "source": [
        "from sklearn.ensemble import RandomForestClassifier\n",
        "import matplotlib.pyplot as plt\n",
        "from sklearn import tree\n",
        "# Create and fit the RandomForestClassifier\n",
        "model3 = RandomForestClassifier()\n",
        "model3.fit(X_train, Y_train)\n",
        "predictions3 = model3.predict(X_test)\n",
        "# Plot a single decision tree from the random forest\n",
        "plt.figure(figsize=(20, 10))\n",
        "tree.plot_tree(model3.estimators_[0], feature_names=X_train.columns, class_names=['Class 0', 'Class 1'], filled=True)\n",
        "plt.show()"
      ],
      "metadata": {
        "id": "GTnneK_JVxag"
      },
      "execution_count": null,
      "outputs": []
    },
    {
      "cell_type": "code",
      "source": [
        "from sklearn.metrics import accuracy_score\n",
        "accuracy = accuracy_score(Y_test, predictions3)\n",
        "print(\"Accuracy:\", accuracy)"
      ],
      "metadata": {
        "id": "W3_nBvl7WAxg"
      },
      "execution_count": null,
      "outputs": []
    },
    {
      "cell_type": "code",
      "source": [
        "from sklearn.metrics import confusion_matrix\n",
        "cm = confusion_matrix(Y_test, predictions3)\n",
        "print(\"Confusion Matrix:\")\n",
        "print(cm)"
      ],
      "metadata": {
        "id": "1GPMrwBvWE0N"
      },
      "execution_count": null,
      "outputs": []
    },
    {
      "cell_type": "code",
      "source": [
        "from sklearn.metrics import accuracy_score, precision_score, recall_score, f1_score\n",
        "\n",
        "accuracy = accuracy_score(Y_test, predictions3)\n",
        "precision = precision_score(Y_test, predictions3)\n",
        "recall = recall_score(Y_test, predictions3)\n",
        "f1 = f1_score(Y_test, predictions3)\n",
        "\n",
        "print(\"Accuracy:\", accuracy)\n",
        "print(\"Precision:\", precision)\n",
        "print(\"Recall:\", recall)\n",
        "print(\"F1 Score:\", f1)"
      ],
      "metadata": {
        "id": "jsqkFegCU1hK"
      },
      "execution_count": null,
      "outputs": []
    }
  ],
  "metadata": {
    "colab": {
      "provenance": []
    },
    "kernelspec": {
      "display_name": "Python 3",
      "name": "python3"
    }
  },
  "nbformat": 4,
  "nbformat_minor": 0
}